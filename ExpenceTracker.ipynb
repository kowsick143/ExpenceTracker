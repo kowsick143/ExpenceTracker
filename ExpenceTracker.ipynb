{
 "cells": [
  {
   "cell_type": "code",
   "execution_count": 8,
   "id": "3b2d8da3-b53c-4c39-9ec5-46d49afefcad",
   "metadata": {},
   "outputs": [
    {
     "name": "stdout",
     "output_type": "stream",
     "text": [
      "\n",
      "Expense Tracker\n",
      "1. Set Budget\n",
      "2. Add Expense\n",
      "3. View Expenses\n",
      "4. View Budget\n",
      "5. Save Expenses\n",
      "6. Load Expenses\n",
      "7. Exit\n"
     ]
    },
    {
     "name": "stdin",
     "output_type": "stream",
     "text": [
      "Enter your choice:  1\n",
      "Enter monthly budget:  5000\n"
     ]
    },
    {
     "name": "stdout",
     "output_type": "stream",
     "text": [
      "Budget set!\n",
      "\n",
      "Expense Tracker\n",
      "1. Set Budget\n",
      "2. Add Expense\n",
      "3. View Expenses\n",
      "4. View Budget\n",
      "5. Save Expenses\n",
      "6. Load Expenses\n",
      "7. Exit\n"
     ]
    },
    {
     "name": "stdin",
     "output_type": "stream",
     "text": [
      "Enter your choice:  2\n",
      "Enter date (YYYY-MM-DD):  2024-Oct-1\n",
      "Enter category:  Food\n",
      "Enter amount:  750\n"
     ]
    },
    {
     "name": "stdout",
     "output_type": "stream",
     "text": [
      "Expense added!\n",
      "\n",
      "Expense Tracker\n",
      "1. Set Budget\n",
      "2. Add Expense\n",
      "3. View Expenses\n",
      "4. View Budget\n",
      "5. Save Expenses\n",
      "6. Load Expenses\n",
      "7. Exit\n"
     ]
    },
    {
     "name": "stdin",
     "output_type": "stream",
     "text": [
      "Enter your choice:  2\n",
      "Enter date (YYYY-MM-DD):  2024-Oct-03\n",
      "Enter category:  groceries\n",
      "Enter amount:  2500\n"
     ]
    },
    {
     "name": "stdout",
     "output_type": "stream",
     "text": [
      "Expense added!\n",
      "\n",
      "Expense Tracker\n",
      "1. Set Budget\n",
      "2. Add Expense\n",
      "3. View Expenses\n",
      "4. View Budget\n",
      "5. Save Expenses\n",
      "6. Load Expenses\n",
      "7. Exit\n"
     ]
    },
    {
     "name": "stdin",
     "output_type": "stream",
     "text": [
      "Enter your choice:  2\n",
      "Enter date (YYYY-MM-DD):  2024-Oct-04\n",
      "Enter category:  Water can\n",
      "Enter amount:  105\n"
     ]
    },
    {
     "name": "stdout",
     "output_type": "stream",
     "text": [
      "Expense added!\n",
      "\n",
      "Expense Tracker\n",
      "1. Set Budget\n",
      "2. Add Expense\n",
      "3. View Expenses\n",
      "4. View Budget\n",
      "5. Save Expenses\n",
      "6. Load Expenses\n",
      "7. Exit\n"
     ]
    },
    {
     "name": "stdin",
     "output_type": "stream",
     "text": [
      "Enter your choice:  5\n"
     ]
    },
    {
     "name": "stdout",
     "output_type": "stream",
     "text": [
      "Expenses saved!\n",
      "\n",
      "Expense Tracker\n",
      "1. Set Budget\n",
      "2. Add Expense\n",
      "3. View Expenses\n",
      "4. View Budget\n",
      "5. Save Expenses\n",
      "6. Load Expenses\n",
      "7. Exit\n"
     ]
    },
    {
     "name": "stdin",
     "output_type": "stream",
     "text": [
      "Enter your choice:  2\n",
      "Enter date (YYYY-MM-DD):  2024-Oct-06\n",
      "Enter category:  vegetables\n",
      "Enter amount:  730\n"
     ]
    },
    {
     "name": "stdout",
     "output_type": "stream",
     "text": [
      "Expense added!\n",
      "\n",
      "Expense Tracker\n",
      "1. Set Budget\n",
      "2. Add Expense\n",
      "3. View Expenses\n",
      "4. View Budget\n",
      "5. Save Expenses\n",
      "6. Load Expenses\n",
      "7. Exit\n"
     ]
    },
    {
     "name": "stdin",
     "output_type": "stream",
     "text": [
      "Enter your choice:  5\n"
     ]
    },
    {
     "name": "stdout",
     "output_type": "stream",
     "text": [
      "Expenses saved!\n",
      "\n",
      "Expense Tracker\n",
      "1. Set Budget\n",
      "2. Add Expense\n",
      "3. View Expenses\n",
      "4. View Budget\n",
      "5. Save Expenses\n",
      "6. Load Expenses\n",
      "7. Exit\n"
     ]
    },
    {
     "name": "stdin",
     "output_type": "stream",
     "text": [
      "Enter your choice:  6\n"
     ]
    },
    {
     "name": "stdout",
     "output_type": "stream",
     "text": [
      "Expenses loaded!\n",
      "\n",
      "Expense Tracker\n",
      "1. Set Budget\n",
      "2. Add Expense\n",
      "3. View Expenses\n",
      "4. View Budget\n",
      "5. Save Expenses\n",
      "6. Load Expenses\n",
      "7. Exit\n"
     ]
    },
    {
     "name": "stdin",
     "output_type": "stream",
     "text": [
      "Enter your choice:  3\n"
     ]
    },
    {
     "name": "stdout",
     "output_type": "stream",
     "text": [
      "Date: 2024-Oct-1, Category: Food, Amount: 750.0\n",
      "Date: 2024-Oct-03, Category: groceries, Amount: 2500.0\n",
      "Date: 2024-Oct-04, Category: Water can, Amount: 105.0\n",
      "Date: 2024-Oct-06, Category: vegetables, Amount: 730.0\n",
      "\n",
      "Expense Tracker\n",
      "1. Set Budget\n",
      "2. Add Expense\n",
      "3. View Expenses\n",
      "4. View Budget\n",
      "5. Save Expenses\n",
      "6. Load Expenses\n",
      "7. Exit\n"
     ]
    },
    {
     "name": "stdin",
     "output_type": "stream",
     "text": [
      "Enter your choice:  4\n"
     ]
    },
    {
     "name": "stdout",
     "output_type": "stream",
     "text": [
      "Monthly Budget: 5000.0\n",
      "\n",
      "Expense Tracker\n",
      "1. Set Budget\n",
      "2. Add Expense\n",
      "3. View Expenses\n",
      "4. View Budget\n",
      "5. Save Expenses\n",
      "6. Load Expenses\n",
      "7. Exit\n"
     ]
    },
    {
     "name": "stdin",
     "output_type": "stream",
     "text": [
      "Enter your choice:  2\n",
      "Enter date (YYYY-MM-DD):  2024-Oct-07\n",
      "Enter category:  Electricity & Internet\n",
      "Enter amount:  2500\n"
     ]
    },
    {
     "name": "stdout",
     "output_type": "stream",
     "text": [
      "Expense added!\n",
      "\n",
      "Expense Tracker\n",
      "1. Set Budget\n",
      "2. Add Expense\n",
      "3. View Expenses\n",
      "4. View Budget\n",
      "5. Save Expenses\n",
      "6. Load Expenses\n",
      "7. Exit\n"
     ]
    },
    {
     "name": "stdin",
     "output_type": "stream",
     "text": [
      "Enter your choice:  5\n"
     ]
    },
    {
     "name": "stdout",
     "output_type": "stream",
     "text": [
      "Expenses saved!\n",
      "\n",
      "Expense Tracker\n",
      "1. Set Budget\n",
      "2. Add Expense\n",
      "3. View Expenses\n",
      "4. View Budget\n",
      "5. Save Expenses\n",
      "6. Load Expenses\n",
      "7. Exit\n"
     ]
    },
    {
     "name": "stdin",
     "output_type": "stream",
     "text": [
      "Enter your choice:  6\n"
     ]
    },
    {
     "name": "stdout",
     "output_type": "stream",
     "text": [
      "Expenses loaded!\n",
      "\n",
      "Expense Tracker\n",
      "1. Set Budget\n",
      "2. Add Expense\n",
      "3. View Expenses\n",
      "4. View Budget\n",
      "5. Save Expenses\n",
      "6. Load Expenses\n",
      "7. Exit\n"
     ]
    },
    {
     "name": "stdin",
     "output_type": "stream",
     "text": [
      "Enter your choice:  3\n"
     ]
    },
    {
     "name": "stdout",
     "output_type": "stream",
     "text": [
      "Date: 2024-Oct-1, Category: Food, Amount: 750.0\n",
      "Date: 2024-Oct-03, Category: groceries, Amount: 2500.0\n",
      "Date: 2024-Oct-04, Category: Water can, Amount: 105.0\n",
      "Date: 2024-Oct-06, Category: vegetables, Amount: 730.0\n",
      "Date: 2024-Oct-07, Category: Electricity & Internet, Amount: 2500.0\n",
      "\n",
      "Expense Tracker\n",
      "1. Set Budget\n",
      "2. Add Expense\n",
      "3. View Expenses\n",
      "4. View Budget\n",
      "5. Save Expenses\n",
      "6. Load Expenses\n",
      "7. Exit\n"
     ]
    },
    {
     "name": "stdin",
     "output_type": "stream",
     "text": [
      "Enter your choice:  7\n"
     ]
    }
   ],
   "source": [
    "class ExpenseTracker:\n",
    "    def __init__(self):\n",
    "        self.expenses = {}\n",
    "        self.budget = 0\n",
    "\n",
    "    def display_menu(self):\n",
    "        print(\"\\nExpense Tracker\")\n",
    "        print(\"1. Set Budget\")\n",
    "        print(\"2. Add Expense\")\n",
    "        print(\"3. View Expenses\")\n",
    "        print(\"4. View Budget\")\n",
    "        print(\"5. Save Expenses\")\n",
    "        print(\"6. Load Expenses\")\n",
    "        print(\"7. Exit\")\n",
    "\n",
    "    def add_expense(self):\n",
    "        date = input(\"Enter date (YYYY-MM-DD): \")\n",
    "        category = input(\"Enter category: \")\n",
    "        amount = float(input(\"Enter amount: \"))\n",
    "        self.expenses[date] = {\"category\": category, \"amount\": amount}\n",
    "        print(\"Expense added!\")\n",
    "\n",
    "    def view_expenses(self):\n",
    "        if not self.expenses:\n",
    "            print(\"No expenses recorded.\")\n",
    "        else:\n",
    "            for date, expense in self.expenses.items():\n",
    "                print(f\"Date: {date}, Category: {expense['category']}, Amount: {expense['amount']}\")\n",
    "\n",
    "    def set_budget(self):\n",
    "        self.budget = float(input(\"Enter monthly budget: \"))\n",
    "        print(\"Budget set!\")\n",
    "\n",
    "    def view_budget(self):\n",
    "        print(f\"Monthly Budget: {self.budget}\")\n",
    "\n",
    "    def save_expenses(self):\n",
    "        with open(\"expenses.txt\", \"w\") as file:\n",
    "            for date, expense in self.expenses.items():\n",
    "                file.write(f\"{date},{expense['category']},{expense['amount']}\\n\")\n",
    "        print(\"Expenses saved!\")\n",
    "\n",
    "    def load_expenses(self):\n",
    "        try:\n",
    "            with open(\"expenses.txt\", \"r\") as file:\n",
    "                for line in file.readlines():\n",
    "                    date, category, amount = line.strip().split(\",\")\n",
    "                    self.expenses[date] = {\"category\": category, \"amount\": float(amount)}\n",
    "            print(\"Expenses loaded!\")\n",
    "        except FileNotFoundError:\n",
    "            print(\"No saved expenses found.\")\n",
    "\n",
    "def main():\n",
    "    tracker = ExpenseTracker()\n",
    "    while True:\n",
    "        tracker.display_menu()\n",
    "        choice = input(\"Enter your choice: \")\n",
    "        if choice == \"1\":\n",
    "            tracker.set_budget()\n",
    "        elif choice == \"2\":\n",
    "            tracker.add_expense()\n",
    "        elif choice == \"3\":\n",
    "            tracker.view_expenses()\n",
    "        elif choice == \"4\":\n",
    "            tracker.view_budget()\n",
    "        elif choice == \"5\":\n",
    "            tracker.save_expenses()\n",
    "        elif choice == \"6\":\n",
    "            tracker.load_expenses()\n",
    "        elif choice == \"7\":\n",
    "            break\n",
    "        else:\n",
    "            print(\"Invalid choice.\")\n",
    "\n",
    "if __name__ == \"__main__\":\n",
    "    main()"
   ]
  }
 ],
 "metadata": {
  "kernelspec": {
   "display_name": "Python 3 [3.10]",
   "language": "python",
   "name": "python3"
  },
  "language_info": {
   "codemirror_mode": {
    "name": "ipython",
    "version": 3
   },
   "file_extension": ".py",
   "mimetype": "text/x-python",
   "name": "python",
   "nbconvert_exporter": "python",
   "pygments_lexer": "ipython3",
   "version": "3.10.2"
  }
 },
 "nbformat": 4,
 "nbformat_minor": 5
}
